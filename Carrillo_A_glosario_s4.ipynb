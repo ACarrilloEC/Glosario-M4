{
  "nbformat": 4,
  "nbformat_minor": 0,
  "metadata": {
    "colab": {
      "provenance": [],
      "collapsed_sections": []
    },
    "kernelspec": {
      "name": "python3",
      "display_name": "Python 3"
    },
    "language_info": {
      "name": "python"
    }
  },
  "cells": [
    {
      "cell_type": "markdown",
      "source": [
        "## **Pontificia Universidad Católica del Ecuador**\n",
        "\n",
        "### **Maestría en Biología Computacional**\n",
        "\n",
        "### **Algoritmos de la Biología Computacional**\n",
        "\n",
        "#### **Nombre:** Ariana Carrillo Fonseca\n",
        "\n",
        "---\n"
      ],
      "metadata": {
        "id": "T95wMd41_N_g"
      }
    },
    {
      "cell_type": "markdown",
      "source": [
        "### **Glosario**"
      ],
      "metadata": {
        "id": "aR_ZtrLgiqmZ"
      }
    },
    {
      "cell_type": "markdown",
      "source": [
        "| **Nombre** | **Definición** | **Categoría** | \n",
        "|------------|----------------|---------------|\n",
        "| **Red neuronal convolucional (CNN)** |Es un modelo de aprendizaje profundo diseñado para procesar datos que tienen un patrón de </p> cuadrícula y aprender de forma automática y adaptativa jerarquías espaciales de características, </p> desde niveles bajos hasta patrones de alto nivel. Normalmente se compone de tres tipos de capas:</p>  convolución, agrupación y capas totalmente conectadas (Yamashita et al., 2018).|Inteligencia Artificial|\n",
        "|**Red neuronal Profunda (DNN)**|Se puede definir como una red neuronal artificial con profundidad adicional, es decir, un mayor </p> número de capas ocultas entre las capas de entrada y salida. Los modelos DNN presentan un </p> excelente rendimiento para aprender tanto el mapeo de entrada-salida no lineal, como la </p> estructura subyacente del vector de datos de entrada (Casini, 2022).|Inteligencia Aritificial|\n",
        "|**Red neuronal recurrente (RNN)**|Es un tipo de red neuronal artificial que utiliza datos secuenciales o datos de series temporales, </p> se caracterizan por tomar información de entradas anteriores que influyen en la entrada y salida </p> actual. A diferencia de las redes neuronales profundas tradicionales que asumen que las entradas </p> y salidas son independientes entre sí, la salida de las redes neuronales recurrentes depende </p> de los elementos previos dentro de la secuencia (IBM, 2020). |Inteligencia Aritificial| \n",
        "|**Redes adversarias generativas (GANs)**|Son modelos de redes neuronales profundas donde el proceso de entrenamiento es una </p> competencia entre un generador y un discriminador para producir nuevos datos que se ajusten </p> a los patrones aprendidos (Jozdani et al., 2022).|Inteligencia Aritificial| \n",
        "|**Restricted Boltzmann machine (RBM)**|Es un modelo probabilístico estocástico que utiliza una capa de variables o unidades binarias </p> ocultas para modelar la distribución de una capa visible de variables. Presentan la capacidad de </p> ser modelos generativos poderosos, capaces de extraer características útiles de los datos de </p> entrada o construir redes neuronales artificiales profundas (Larochelle et al., 2012). |Inteligencia Aritificial| \n"
      ],
      "metadata": {
        "id": "-TvSgAR1KGge"
      }
    },
    {
      "cell_type": "markdown",
      "source": [
        "#### **Bibliografía**\n",
        "\n",
        "\n",
        "\n",
        "*   Casini, M. (2022). Building automation systems. *Construction* 4.0, 525-581. https://doi.org/10.1016/B978-0-12-821797-9.00008-8\n",
        "*   IBM. (2020). Recurrent Neural Networks. *IBM Cloud Education*. https://www.ibm.com/cloud/learn/recurrent-neural-networks\n",
        "*   Jozdani, S., Chen, D., Pouliot, D., & Alan Johnson, B. (2022). A review and meta-analysis of Generative Adversarial Networks and their applications in remote sensing. *International Journal of Applied Earth Observation and Geoinformation*, 108, 102734. https://doi.org/10.1016/j.jag.2022.102734\n",
        "*   Larochelle, H., Mandel, M., Pascanu, R., & Bengio, Y. (2012). Learning Algorithms for the Classification Restricted Boltzmann Machine. *Journal of Machine Learning Research*, 643-669. https://www.jmlr.org/papers/volume13/larochelle12a/larochelle12a.pdf?ref=https://githubhelp.com\n",
        "*   Yamashita, R., Nishio, M., Do, R. K., & Togashi, K. (2018). Convolutional neural networks: an overview and application in radiology. *Insights into Imaging*, 9(4), 611-629. https://doi.org/10.1007/s13244-018-0639-9\n",
        "\n",
        "\n",
        "\n",
        "\n",
        "\n",
        "\n",
        "\n"
      ],
      "metadata": {
        "id": "4DZ65dqyAq5E"
      }
    }
  ]
}